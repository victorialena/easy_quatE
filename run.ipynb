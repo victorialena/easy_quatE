{
 "cells": [
  {
   "cell_type": "code",
   "execution_count": 104,
   "metadata": {},
   "outputs": [],
   "source": [
    "import argparse\n",
    "import json\n",
    "import logging\n",
    "import os\n",
    "import random\n",
    "\n",
    "import numpy as np\n",
    "import torch\n",
    "\n",
    "from torch.utils.data import DataLoader\n",
    "import torch.nn.functional as F\n",
    "\n",
    "from model import KGEModel\n",
    "\n",
    "from dataloader import TrainDataset\n",
    "from dataloader import DatasetIterator\n",
    "\n",
    "from ogb.linkproppred import LinkPropPredDataset, Evaluator\n",
    "from collections import defaultdict\n",
    "\n",
    "import time\n",
    "import pdb"
   ]
  },
  {
   "cell_type": "code",
   "execution_count": 72,
   "metadata": {},
   "outputs": [],
   "source": [
    "import importlib # lets you reload a package or file when u mess up"
   ]
  },
  {
   "cell_type": "code",
   "execution_count": null,
   "metadata": {},
   "outputs": [],
   "source": [
    "import datetime\n",
    "def now():\n",
    "    d = datetime.datetime.now()\n",
    "    x = d - datetime.timedelta(microseconds=d.microsecond)\n",
    "    return x"
   ]
  },
  {
   "cell_type": "code",
   "execution_count": 4,
   "metadata": {},
   "outputs": [
    {
     "name": "stderr",
     "output_type": "stream",
     "text": [
      "Downloaded 0.00 GB:   0%|          | 2/920 [00:00<00:47, 19.43it/s]"
     ]
    },
    {
     "name": "stdout",
     "output_type": "stream",
     "text": [
      "Downloading http://snap.stanford.edu/ogb/data/linkproppred/biokg.zip\n"
     ]
    },
    {
     "name": "stderr",
     "output_type": "stream",
     "text": [
      "Downloaded 0.90 GB: 100%|██████████| 920/920 [01:25<00:00, 10.73it/s]\n"
     ]
    },
    {
     "name": "stdout",
     "output_type": "stream",
     "text": [
      "Extracting dataset/biokg.zip\n",
      "Loading necessary files...\n",
      "This might take a while.\n"
     ]
    },
    {
     "name": "stderr",
     "output_type": "stream",
     "text": [
      "100%|██████████| 1/1 [00:00<00:00, 6831.11it/s]"
     ]
    },
    {
     "name": "stdout",
     "output_type": "stream",
     "text": [
      "Processing graphs...\n",
      "Saving...\n"
     ]
    },
    {
     "name": "stderr",
     "output_type": "stream",
     "text": [
      "\n"
     ]
    }
   ],
   "source": [
    "d_name = \"ogbl-biokg\"\n",
    "dataset = LinkPropPredDataset(name = d_name) "
   ]
  },
  {
   "cell_type": "code",
   "execution_count": 5,
   "metadata": {},
   "outputs": [],
   "source": [
    "split_edge = dataset.get_edge_split()\n",
    "train_triples, valid_triples, test_triples = split_edge[\"train\"], split_edge[\"valid\"], split_edge[\"test\"]"
   ]
  },
  {
   "cell_type": "code",
   "execution_count": 6,
   "metadata": {},
   "outputs": [],
   "source": [
    "nrelation = int(max(train_triples['relation']))+1\n",
    "nentity = sum(dataset[0]['num_nodes_dict'].values())"
   ]
  },
  {
   "cell_type": "code",
   "execution_count": 7,
   "metadata": {},
   "outputs": [],
   "source": [
    "entity_dict = dict()\n",
    "cur_idx = 0\n",
    "for key in dataset[0]['num_nodes_dict']:\n",
    "    entity_dict[key] = (cur_idx, cur_idx + dataset[0]['num_nodes_dict'][key])\n",
    "    cur_idx += dataset[0]['num_nodes_dict'][key]\n",
    "nentity = sum(dataset[0]['num_nodes_dict'].values())"
   ]
  },
  {
   "cell_type": "code",
   "execution_count": 56,
   "metadata": {},
   "outputs": [],
   "source": [
    "evaluator = Evaluator(name = d_name)"
   ]
  },
  {
   "cell_type": "code",
   "execution_count": 112,
   "metadata": {},
   "outputs": [],
   "source": [
    "train_iterator = DatasetIterator(TrainDataset(train_triples, nentity, nrelation, 1024, 0, entity_dict))"
   ]
  },
  {
   "cell_type": "code",
   "execution_count": 82,
   "metadata": {},
   "outputs": [],
   "source": [
    "hidden_dim = 500 # to args.hidden_dim"
   ]
  },
  {
   "cell_type": "code",
   "execution_count": 137,
   "metadata": {},
   "outputs": [],
   "source": [
    "kge_model = KGEModel(\n",
    "        model_name=\"QuatE\",\n",
    "        nentity=nentity,\n",
    "        nrelation=nrelation,\n",
    "        hidden_dim=hidden_dim,\n",
    "        evaluator=evaluator)"
   ]
  },
  {
   "cell_type": "code",
   "execution_count": 138,
   "metadata": {},
   "outputs": [],
   "source": [
    "learning_rate = 1e-4 # to args.learning_rate\n",
    "optimizer = torch.optim.Adam(filter(lambda p: p.requires_grad, kge_model.parameters()), \n",
    "                             lr=learning_rate)"
   ]
  },
  {
   "cell_type": "code",
   "execution_count": 78,
   "metadata": {},
   "outputs": [],
   "source": [
    "args = {\"cuda\" : False,\n",
    "        \"lr\" : 1e-4, \n",
    "        \"max_steps\" : 100000, \n",
    "        \"hidden_dim\" : 500, \n",
    "        \"save_checkpoint_steps\" : 10000, \n",
    "        \"log_steps\" = 100}"
   ]
  },
  {
   "cell_type": "code",
   "execution_count": null,
   "metadata": {},
   "outputs": [],
   "source": [
    "for step in range(args[\"max_steps\"]):\n",
    "\n",
    "    loss = kge_model.train_step(kge_model, optimizer, train_iterator, args)\n",
    "    #training_logs.append(log)\n",
    "\n",
    "    if step % args[\"save_checkpoint_steps\"] == 0 and step > 0:\n",
    "        torch.save({'step': step,\n",
    "                    'loss': loss.item(),\n",
    "                    'model': kge_model.state_dict()}, \"checkpoint_\"+str(now))\n",
    "\n",
    "    if step % args[\"log_steps\"] == 0:\n",
    "        print(\"step:\", step, \"loss:\", loss.item())\n",
    "\n",
    "#     if step % args.valid_steps == 0 and step > 0:\n",
    "#         logging.info('Evaluating on Valid Dataset...')\n",
    "#         metrics = kge_model.test_step(kge_model, valid_triples, args, entity_dict)\n",
    "#         log_metrics('Valid', step, metrics, writer)"
   ]
  }
 ],
 "metadata": {
  "@webio": {
   "lastCommId": null,
   "lastKernelId": null
  },
  "kernelspec": {
   "display_name": "Python 3",
   "language": "python",
   "name": "python3"
  },
  "language_info": {
   "codemirror_mode": {
    "name": "ipython",
    "version": 3
   },
   "file_extension": ".py",
   "mimetype": "text/x-python",
   "name": "python",
   "nbconvert_exporter": "python",
   "pygments_lexer": "ipython3",
   "version": "3.8.5"
  }
 },
 "nbformat": 4,
 "nbformat_minor": 4
}
